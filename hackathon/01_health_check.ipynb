{
 "cells": [
  {
   "cell_type": "markdown",
   "id": "cc6a2285-8d1e-45f9-8367-0957a41a1737",
   "metadata": {},
   "source": [
    "# MLOps Hackathon\n",
    "\n",
    "This hackathon is based on the [open-source Turbo Template](https://github.com/teamdatatonic/vertex-pipelines-end-to-end-samples).\n",
    "Through this notebook series you'll get hands-on with the template and Google Cloud.\n",
    "The hackathon is structured into the following exercises:\n",
    "\n",
    "1. **[Health check](./01_health_check.ipynb) - this notebook**\n",
    "1. [Run pipelines](./02_run_pipelines.ipynb)\n",
    "1. [Promote model](./03_promote_model.ipynb)\n",
    "1. [Challenge: Model monitoring](./04_monitoring_challenge.ipynb)\n",
    "1. [Challenge: Real-time predictions](./05_realtime_challenge.ipynb)\n",
    "\n",
    "\n",
    "## Introduction\n",
    "\n",
    "In this notebook you'll health check your environment in Google Cloud before carrying out the next exercises and challenges.\n",
    "Get started in [Vertex AI Workbench](https://cloud.google.com/vertex-ai-notebooks) now!\n",
    "\n",
    "**Prerequisites:**\n",
    "\n",
    "- [x] Deployed `dev`, `staging`, `prod` projects in Google Cloud\n",
    "- [x] [Pyenv](https://github.com/pyenv/pyenv#installation) for managing Python versions\n",
    "- [x] [Google Cloud SDK (gcloud)](https://cloud.google.com/sdk/docs/quickstart)\n",
    "- [x] Make\n",
    "- [x] [Poetry](https://python-poetry.org)"
   ]
  },
  {
   "cell_type": "markdown",
   "id": "122952d9-fb78-4f5d-8d8b-1e46bbe973b7",
   "metadata": {},
   "source": [
    "\n",
    "## Install tools\n",
    "\n",
    "Let's go to the root of the hackathon repo:"
   ]
  },
  {
   "cell_type": "code",
   "execution_count": null,
   "id": "f95880c5-511e-4e4f-98de-6fbf7521ca61",
   "metadata": {},
   "outputs": [],
   "source": [
    "%cd .."
   ]
  },
  {
   "cell_type": "markdown",
   "id": "7faf7fe5-d425-4e70-beca-b641ae31640c",
   "metadata": {},
   "source": [
    "Do you have poetry installed and available in the `PATH`?"
   ]
  },
  {
   "cell_type": "code",
   "execution_count": null,
   "id": "e26f7572-24e5-4002-9181-65791d5426d4",
   "metadata": {},
   "outputs": [],
   "source": [
    "! poetry --version"
   ]
  },
  {
   "cell_type": "markdown",
   "id": "78e55311-0123-4f85-b5a8-390bb33638c3",
   "metadata": {},
   "source": [
    "If not, install `pyenv` and `poetry`:"
   ]
  },
  {
   "cell_type": "code",
   "execution_count": null,
   "id": "000357d7-bf37-4d3c-bfaa-70ed164f79b6",
   "metadata": {},
   "outputs": [],
   "source": [
    "! curl https://pyenv.run | bash"
   ]
  },
  {
   "cell_type": "code",
   "execution_count": null,
   "id": "6bf595eb-7194-4b89-b512-d7db2fb87f24",
   "metadata": {},
   "outputs": [],
   "source": [
    "! bash ./docs/notebooks/scripts/install_poetry.sh"
   ]
  },
  {
   "cell_type": "markdown",
   "id": "719b4490",
   "metadata": {},
   "source": [
    "**Remember to add poetry & pyenv to your PATH**"
   ]
  },
  {
   "cell_type": "markdown",
   "id": "a188dda9-f3fb-498e-8b98-e9b2c4c2c444",
   "metadata": {},
   "source": [
    "**Note:** After installation, restart your kernel or Workbench instance.\n",
    "\n",
    "Now configure the installed tools:"
   ]
  },
  {
   "cell_type": "code",
   "execution_count": null,
   "id": "aa280189",
   "metadata": {},
   "outputs": [],
   "source": [
    "# Automatically restart kernel after installs\n",
    "import os\n",
    "\n",
    "if not os.getenv(\"IS_TESTING\"):\n",
    "    import IPython\n",
    "\n",
    "    app = IPython.Application.instance()\n",
    "    app.kernel.do_shutdown(True)"
   ]
  },
  {
   "cell_type": "code",
   "execution_count": null,
   "id": "33d0b45b-f470-4aeb-8049-f2dad7b66827",
   "metadata": {},
   "outputs": [],
   "source": [
    "! pyenv install --skip-existing\n",
    "! poetry config virtualenvs.prefer-active-python true"
   ]
  },
  {
   "cell_type": "markdown",
   "id": "5d838928-49c2-4f81-914f-296f4485be28",
   "metadata": {},
   "source": [
    "## Install Dependencies\n",
    "\n",
    "The code requires a number of Python dependencies. \n",
    "As such the `Makefile` offers a helpful command to create virtual Python environments with the all dependencies by using `poetry`:"
   ]
  },
  {
   "cell_type": "code",
   "execution_count": null,
   "id": "4d97938c-f4f2-4af4-81c0-4a7ab3228550",
   "metadata": {},
   "outputs": [],
   "source": [
    "! make install"
   ]
  },
  {
   "cell_type": "markdown",
   "id": "9b08f720-d691-444e-bffd-40942c0a089d",
   "metadata": {},
   "source": [
    "Let's check whether the installed dependencies can run tests in the code base successfully:"
   ]
  },
  {
   "cell_type": "code",
   "execution_count": null,
   "id": "e8f02e73-dd67-4d30-a19b-e4d7082df2a1",
   "metadata": {},
   "outputs": [],
   "source": [
    "! make test"
   ]
  },
  {
   "cell_type": "markdown",
   "id": "c7e2e37a-a901-45d4-b275-7f8889fef1c3",
   "metadata": {},
   "source": [
    "Finally, open a shell test the commands below to understand how to interact with the Python virtual environments (e.g. outside of the Jupyter notebook).\n",
    "\n",
    "```bash\n",
    "# go to the root of the repository and then into the pipeline python package\n",
    "cd pipelines\n",
    "# use poetry to activate the virtual environment\n",
    "poetry shell\n",
    "# open a python shell and test whether you can import dependencies\n",
    "python\n",
    "echo \"Hello World\"\n",
    "import google.cloud.aiplatform\n",
    "exit\n",
    "# finally, go to the source of the pipeline package and try executing one of the python scripts\n",
    "cd src\n",
    "python -m pipelines.utils.trigger_pipeline\n",
    "# exit the virtual environment\n",
    "exit\n",
    "# you can run python scripts without explicitly activating the virtual environment, too\n",
    "poetry run python -m pipelines.utils.trigger_pipeline\n",
    "````"
   ]
  },
  {
   "cell_type": "markdown",
   "id": "972e1a0c-de7a-4bf1-b375-011f36c1e5c0",
   "metadata": {},
   "source": [
    "## Conclusion\n",
    "\n",
    "At the end of this notebook, you have successfully tested that ...\n",
    "\n",
    "- poetry is installed\n",
    "- all python dependencies are installed\n",
    "- run local tests\n",
    "- you can activate the virtual environment and execute python scripts\n",
    "\n",
    "🎉 Now you're ready for the next exercise!"
   ]
  }
 ],
 "metadata": {
  "kernelspec": {
   "display_name": "Python 3 (ipykernel)",
   "language": "python",
   "name": "python3"
  },
  "language_info": {
   "codemirror_mode": {
    "name": "ipython",
    "version": 3
   },
   "file_extension": ".py",
   "mimetype": "text/x-python",
   "name": "python",
   "nbconvert_exporter": "python",
   "pygments_lexer": "ipython3",
   "version": "3.9.16"
  }
 },
 "nbformat": 4,
 "nbformat_minor": 5
}
